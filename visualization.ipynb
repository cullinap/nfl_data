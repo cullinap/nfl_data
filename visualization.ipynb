{
 "cells": [
  {
   "cell_type": "code",
   "execution_count": 1,
   "id": "01b36b7d",
   "metadata": {},
   "outputs": [],
   "source": [
    "import pandas as pd\n",
    "from bs4 import BeautifulSoup as BS\n",
    "import requests\n",
    "from matplotlib import pyplot as plt\n",
    "import seaborn as sns\n",
    "import numpy as np"
   ]
  },
  {
   "cell_type": "code",
   "execution_count": 2,
   "id": "29ff877b",
   "metadata": {},
   "outputs": [
    {
     "data": {
      "text/html": [
       "<div>\n",
       "<style scoped>\n",
       "    .dataframe tbody tr th:only-of-type {\n",
       "        vertical-align: middle;\n",
       "    }\n",
       "\n",
       "    .dataframe tbody tr th {\n",
       "        vertical-align: top;\n",
       "    }\n",
       "\n",
       "    .dataframe thead th {\n",
       "        text-align: right;\n",
       "    }\n",
       "</style>\n",
       "<table border=\"1\" class=\"dataframe\">\n",
       "  <thead>\n",
       "    <tr style=\"text-align: right;\">\n",
       "      <th></th>\n",
       "      <th>Unnamed: 0</th>\n",
       "      <th>0</th>\n",
       "      <th>1</th>\n",
       "      <th>2</th>\n",
       "      <th>3</th>\n",
       "      <th>4</th>\n",
       "      <th>5</th>\n",
       "      <th>6</th>\n",
       "      <th>7</th>\n",
       "      <th>8</th>\n",
       "      <th>9</th>\n",
       "      <th>10</th>\n",
       "      <th>11</th>\n",
       "    </tr>\n",
       "  </thead>\n",
       "  <tbody>\n",
       "    <tr>\n",
       "      <th>0</th>\n",
       "      <td>0</td>\n",
       "      <td>Sortable Passing Leaders</td>\n",
       "      <td>Sortable Passing Leaders</td>\n",
       "      <td>Sortable Passing Leaders</td>\n",
       "      <td>Sortable Passing Leaders</td>\n",
       "      <td>Sortable Passing Leaders</td>\n",
       "      <td>Sortable Passing Leaders</td>\n",
       "      <td>Sortable Passing Leaders</td>\n",
       "      <td>Sortable Passing Leaders</td>\n",
       "      <td>Sortable Passing Leaders</td>\n",
       "      <td>Sortable Passing Leaders</td>\n",
       "      <td>Sortable Passing Leaders</td>\n",
       "      <td>Sortable Passing Leaders</td>\n",
       "    </tr>\n",
       "    <tr>\n",
       "      <th>1</th>\n",
       "      <td>1</td>\n",
       "      <td>RK</td>\n",
       "      <td>PLAYER</td>\n",
       "      <td>TEAM</td>\n",
       "      <td>RESULT</td>\n",
       "      <td>COMP</td>\n",
       "      <td>ATT</td>\n",
       "      <td>YDS</td>\n",
       "      <td>TD</td>\n",
       "      <td>INT</td>\n",
       "      <td>SACK</td>\n",
       "      <td>FUM</td>\n",
       "      <td>RAT</td>\n",
       "    </tr>\n",
       "  </tbody>\n",
       "</table>\n",
       "</div>"
      ],
      "text/plain": [
       "   Unnamed: 0                         0                         1  \\\n",
       "0           0  Sortable Passing Leaders  Sortable Passing Leaders   \n",
       "1           1                        RK                    PLAYER   \n",
       "\n",
       "                          2                         3  \\\n",
       "0  Sortable Passing Leaders  Sortable Passing Leaders   \n",
       "1                      TEAM                    RESULT   \n",
       "\n",
       "                          4                         5  \\\n",
       "0  Sortable Passing Leaders  Sortable Passing Leaders   \n",
       "1                      COMP                       ATT   \n",
       "\n",
       "                          6                         7  \\\n",
       "0  Sortable Passing Leaders  Sortable Passing Leaders   \n",
       "1                       YDS                        TD   \n",
       "\n",
       "                          8                         9  \\\n",
       "0  Sortable Passing Leaders  Sortable Passing Leaders   \n",
       "1                       INT                      SACK   \n",
       "\n",
       "                         10                        11  \n",
       "0  Sortable Passing Leaders  Sortable Passing Leaders  \n",
       "1                       FUM                       RAT  "
      ]
     },
     "execution_count": 2,
     "metadata": {},
     "output_type": "execute_result"
    }
   ],
   "source": [
    "df = pd.read_csv('./data/qbs/qbweek1.csv'); df.head(2)"
   ]
  },
  {
   "cell_type": "code",
   "execution_count": 5,
   "id": "0fe4a64c",
   "metadata": {},
   "outputs": [],
   "source": [
    "df = df[1:]"
   ]
  },
  {
   "cell_type": "code",
   "execution_count": 15,
   "id": "24ff4996",
   "metadata": {},
   "outputs": [],
   "source": [
    "df.columns = df.iloc[0]"
   ]
  },
  {
   "cell_type": "code",
   "execution_count": 33,
   "id": "4c565586",
   "metadata": {},
   "outputs": [],
   "source": [
    "df = df.iloc[1:]"
   ]
  },
  {
   "cell_type": "code",
   "execution_count": 47,
   "id": "a22b3d39",
   "metadata": {},
   "outputs": [
    {
     "name": "stdout",
     "output_type": "stream",
     "text": [
      "<class 'pandas.core.frame.DataFrame'>\n",
      "RangeIndex: 30 entries, 2 to 31\n",
      "Data columns (total 13 columns):\n",
      " #   Column  Non-Null Count  Dtype \n",
      "---  ------  --------------  ----- \n",
      " 0   1       30 non-null     int64 \n",
      " 1   RK      30 non-null     object\n",
      " 2   PLAYER  30 non-null     object\n",
      " 3   TEAM    30 non-null     object\n",
      " 4   RESULT  30 non-null     object\n",
      " 5   COMP    30 non-null     object\n",
      " 6   ATT     30 non-null     object\n",
      " 7   YDS     30 non-null     object\n",
      " 8   TD      30 non-null     object\n",
      " 9   INT     30 non-null     object\n",
      " 10  SACK    30 non-null     object\n",
      " 11  FUM     30 non-null     object\n",
      " 12  RAT     30 non-null     object\n",
      "dtypes: int64(1), object(12)\n",
      "memory usage: 3.2+ KB\n"
     ]
    }
   ],
   "source": [
    "df.info()"
   ]
  },
  {
   "cell_type": "code",
   "execution_count": 59,
   "id": "25812e93",
   "metadata": {},
   "outputs": [
    {
     "data": {
      "image/png": "[encoded data removed]",
      "text/plain": [
       "<Figure size 360x360 with 1 Axes>"
      ]
     },
     "metadata": {
      "needs_background": "light"
     },
     "output_type": "display_data"
    }
   ],
   "source": [
    "sns.displot(data=df, x=pd.to_numeric(df['YDS']), kind='kde', fill=True)\n",
    "\n",
    "plt.show()"
   ]
  },
  {
   "cell_type": "code",
   "execution_count": 60,
   "id": "1ae2ff66",
   "metadata": {},
   "outputs": [],
   "source": [
    "#df['YDS'] = pd.to_numeric(df['YDS'])"
   ]
  },
  {
   "cell_type": "code",
   "execution_count": 57,
   "id": "a3f283aa",
   "metadata": {},
   "outputs": [
    {
     "data": {
      "text/plain": [
       "241.5"
      ]
     },
     "execution_count": 57,
     "metadata": {},
     "output_type": "execute_result"
    }
   ],
   "source": [
    "# 50% of the time QBs throw for 241 yds or less\n",
    "df['YDS'].quantile(.50)"
   ]
  },
  {
   "cell_type": "code",
   "execution_count": 58,
   "id": "9f8e9a34",
   "metadata": {},
   "outputs": [
    {
     "data": {
      "text/plain": [
       "count     30.000000\n",
       "mean     251.400000\n",
       "std       57.107038\n",
       "min      147.000000\n",
       "25%      212.250000\n",
       "50%      241.500000\n",
       "75%      291.000000\n",
       "max      360.000000\n",
       "Name: YDS, dtype: float64"
      ]
     },
     "execution_count": 58,
     "metadata": {},
     "output_type": "execute_result"
    }
   ],
   "source": [
    "df['YDS'].describe()"
   ]
  },
  {
   "cell_type": "code",
   "execution_count": null,
   "id": "5a48a609",
   "metadata": {},
   "outputs": [],
   "source": [
    "df['TD']"
   ]
  }
 ],
 "metadata": {
  "kernelspec": {
   "display_name": "Python 3 (ipykernel)",
   "language": "python",
   "name": "python3"
  },
  "language_info": {
   "codemirror_mode": {
    "name": "ipython",
    "version": 3
   },
   "file_extension": ".py",
   "mimetype": "text/x-python",
   "name": "python",
   "nbconvert_exporter": "python",
   "pygments_lexer": "ipython3",
   "version": "3.9.12"
  }
 },
 "nbformat": 4,
 "nbformat_minor": 5
}
